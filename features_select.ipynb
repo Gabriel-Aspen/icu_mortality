{
 "cells": [
  {
   "cell_type": "code",
   "execution_count": 6,
   "metadata": {
    "id": "HblQfD2v1HeK"
   },
   "outputs": [],
   "source": [
    "%matplotlib inline\n",
    "import pandas as pd\n",
    "import numpy as np\n",
    "import matplotlib.pyplot as plt\n",
    "from sklearn.model_selection import cross_val_score\n",
    "from sklearn.metrics import make_scorer\n",
    "from sklearn.metrics import roc_auc_score\n",
    "from sklearn.decomposition import PCA\n",
    "from sklearn.preprocessing import StandardScaler\n",
    "from sklearn.model_selection import train_test_split\n",
    "from sklearn.preprocessing import LabelEncoder\n",
    "import random"
   ]
  },
  {
   "cell_type": "markdown",
   "metadata": {},
   "source": [
    "Import the data"
   ]
  },
  {
   "cell_type": "code",
   "execution_count": 2,
   "metadata": {},
   "outputs": [],
   "source": [
    "data = pd.read_csv('training_v2.csv')\n",
    "X = data.drop('hospital_death', axis=1)\n",
    "y = data.hospital_death"
   ]
  },
  {
   "cell_type": "markdown",
   "metadata": {},
   "source": [
    "Create the model we will use"
   ]
  },
  {
   "cell_type": "code",
   "execution_count": 3,
   "metadata": {
    "id": "_YKt32MM83hI"
   },
   "outputs": [],
   "source": [
    "from xgboost import XGBClassifier\n",
    "xboost_c = XGBClassifier(colsample_bytree=0.3, eta=0.02, gamma = 0.1, max_depth = 6, min_child_weight = 6)\n",
    "xboost = XGBClassifier()"
   ]
  },
  {
   "cell_type": "markdown",
   "metadata": {
    "id": "VAeDa7KDschB"
   },
   "source": [
    "tester()\n",
    "- This function will do all the preprocessing and model evaluation"
   ]
  },
  {
   "cell_type": "code",
   "execution_count": 4,
   "metadata": {
    "id": "v15aV6eNKBCq"
   },
   "outputs": [],
   "source": [
    "# write testing function\n",
    "def tester(X, y, model):\n",
    "    X_fill = X.fillna(-1)\n",
    "    cols = X.columns\n",
    "    num_cols = X._get_numeric_data().columns\n",
    "    cat_cols = list(set(cols) - set(num_cols))\n",
    "    X_fill[cat_cols] = X_fill[cat_cols].astype('str')\n",
    "    # label encoding for categorical features\n",
    "    for col in cat_cols:\n",
    "        le = LabelEncoder().fit(np.unique(X_fill[col].unique().tolist()))\n",
    "        X_fill[col] = le.transform(X_fill[col])+1\n",
    "      #split and train\n",
    "    X_train, X_test, y_train, y_test = train_test_split(X_fill, y, stratify = y, \n",
    "                                            test_size=0.2, random_state=42)\n",
    "    model.fit(X_train, y_train)\n",
    "    preds = model.predict_proba(X_test)\n",
    "      #score\n",
    "    score = roc_auc_score(y_test, preds[:,1:])\n",
    "    return score"
   ]
  },
  {
   "cell_type": "code",
   "execution_count": 5,
   "metadata": {
    "colab": {
     "base_uri": "https://localhost:8080/",
     "height": 34
    },
    "id": "0QyuF9fluulz",
    "outputId": "3d11a73c-f6f8-4c9e-e31d-6279fa627f3c"
   },
   "outputs": [
    {
     "data": {
      "text/plain": [
       "0.9089127543997455"
      ]
     },
     "execution_count": 5,
     "metadata": {},
     "output_type": "execute_result"
    }
   ],
   "source": [
    "tester(X, y, xboost_c)"
   ]
  },
  {
   "cell_type": "markdown",
   "metadata": {
    "id": "98c6rm0kqExV"
   },
   "source": [
    "FindImportantFeats()\n",
    "- Quickly samples k number of features (sample size) and checks auc score with only these features. You can specify the number of iterations and the sample size of your random features\n",
    "- Supposedly, with enough iterations you'll find the optimal set of features (for the given feature sample size)\n",
    "\n",
    "1. Working on a master_list to return the features that give auc above a certain threshold. I suspect that features that frequently score high are most useful.\n"
   ]
  },
  {
   "cell_type": "code",
   "execution_count": 7,
   "metadata": {
    "id": "QDcUlzwyV9mA"
   },
   "outputs": [],
   "source": [
    "def FindImportantFeats(X, y, model, sample_size = 40, iters=10):\n",
    "    best_feats = []\n",
    "    master_list = pd.Series()\n",
    "    best_score = 0.0\n",
    "    for i in range(iters):\n",
    "        random_features = random.sample(list(X.columns), sample_size)\n",
    "        auc_score = float(tester(X[random_features], y, model))\n",
    "        print('Iteration:', i+1, '---', auc_score)\n",
    "        if auc_score > 0.8:\n",
    "            rf = pd.Series(random_features)\n",
    "            master_list = master_list.append(rf, ignore_index=True)\n",
    "        if auc_score > best_score:\n",
    "            print('found a good score')\n",
    "            best_score = auc_score\n",
    "            best_feats = random_features\n",
    "    print(best_score)\n",
    "    return best_feats"
   ]
  },
  {
   "cell_type": "code",
   "execution_count": null,
   "metadata": {
    "id": "7vgeCzrUfIUY"
   },
   "outputs": [],
   "source": [
    "bestfeats = FindImportantFeats(X,y,xboost_c, sample_size=150, iters=100)\n",
    "bestfeats"
   ]
  }
 ],
 "metadata": {
  "colab": {
   "collapsed_sections": [],
   "name": "features_select",
   "provenance": []
  },
  "kernelspec": {
   "display_name": "Python 3",
   "language": "python",
   "name": "python3"
  },
  "language_info": {
   "codemirror_mode": {
    "name": "ipython",
    "version": 3
   },
   "file_extension": ".py",
   "mimetype": "text/x-python",
   "name": "python",
   "nbconvert_exporter": "python",
   "pygments_lexer": "ipython3",
   "version": "3.7.4"
  }
 },
 "nbformat": 4,
 "nbformat_minor": 1
}
