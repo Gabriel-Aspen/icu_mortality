{
 "cells": [
  {
   "cell_type": "code",
   "execution_count": 1,
   "metadata": {
    "id": "075jMSoTmOLE"
   },
   "outputs": [],
   "source": [
    "%matplotlib inline\n",
    "import pandas as pd\n",
    "import numpy as np\n",
    "from sklearn.model_selection import train_test_split\n",
    "from sklearn.model_selection import cross_val_score\n",
    "from sklearn.metrics import make_scorer\n",
    "from sklearn.metrics import roc_auc_score\n",
    "from xgboost import XGBClassifier\n",
    "from important_features import select_feats"
   ]
  },
  {
   "cell_type": "markdown",
   "metadata": {},
   "source": [
    "Import the dataset"
   ]
  },
  {
   "cell_type": "code",
   "execution_count": 2,
   "metadata": {
    "id": "OgJqTJdAmOLN"
   },
   "outputs": [],
   "source": [
    "data = pd.read_csv('training_v2.csv')\n",
    "X = data.drop('hospital_death', axis=1)\n",
    "y = data.hospital_death"
   ]
  },
  {
   "cell_type": "markdown",
   "metadata": {},
   "source": [
    "Create a dataset with important features determined through random sampling"
   ]
  },
  {
   "cell_type": "code",
   "execution_count": 3,
   "metadata": {
    "id": "NFyqvncr8hjc"
   },
   "outputs": [],
   "source": [
    "X = X[select_feats]"
   ]
  },
  {
   "cell_type": "markdown",
   "metadata": {},
   "source": [
    "Clean the data\n",
    "- Fill missing values with -1\n",
    "- Label encode categorical variables"
   ]
  },
  {
   "cell_type": "code",
   "execution_count": 5,
   "metadata": {
    "id": "QwsHr9v9mOLQ"
   },
   "outputs": [],
   "source": [
    "### Preprocessing\n",
    "\n",
    "#fill NaNs\n",
    "train_fill = X.fillna(-1)\n",
    "\n",
    "#column stuff\n",
    "cols = X.columns\n",
    "num_cols = X._get_numeric_data().columns # numeric\n",
    "cat_cols = list(set(cols) - set(num_cols)) # categorical\n",
    "train_fill[cat_cols] = train_fill[cat_cols].astype('str')\n",
    "\n",
    "# label encoding for categorical features\n",
    "from sklearn.preprocessing import LabelEncoder\n",
    "for col in cat_cols:\n",
    "    le = LabelEncoder().fit(\n",
    "            np.unique(train_fill[col].unique().tolist()))\n",
    "    train_fill[col] = le.transform(train_fill[col])+1"
   ]
  },
  {
   "cell_type": "markdown",
   "metadata": {},
   "source": [
    "Create the XGboost model with hyperparametes selected through gridsearch"
   ]
  },
  {
   "cell_type": "code",
   "execution_count": 6,
   "metadata": {
    "id": "JpILh20dmOLa"
   },
   "outputs": [],
   "source": [
    "# XGB model\n",
    "xgb = XGBClassifier(colsample_bytree=0.3, eta=0.02, gamma = 0.1, max_depth = 6, min_child_weight = 6)"
   ]
  },
  {
   "cell_type": "markdown",
   "metadata": {},
   "source": [
    "Train and test the model"
   ]
  },
  {
   "cell_type": "code",
   "execution_count": 7,
   "metadata": {
    "colab": {
     "base_uri": "https://localhost:8080/"
    },
    "id": "y5XUxfIqFmVK",
    "outputId": "52db8f9d-c56c-4818-840c-b0bfd0dea03f"
   },
   "outputs": [
    {
     "data": {
      "text/plain": [
       "0.9077115217322473"
      ]
     },
     "execution_count": 7,
     "metadata": {},
     "output_type": "execute_result"
    }
   ],
   "source": [
    "# Split the training data\n",
    "X_train, X_test, y_train, y_test = train_test_split(train_fill, y, stratify = y, \n",
    "                                        test_size=0.2, random_state=42)\n",
    "# fit the model\n",
    "xgb.fit(X_train, y_train)\n",
    "preds = xgb.predict_proba(X_test)\n",
    "\n",
    "# predict auc score\n",
    "roc_auc_score(y_test, preds[:,1:])"
   ]
  }
 ],
 "metadata": {
  "accelerator": "GPU",
  "colab": {
   "collapsed_sections": [],
   "name": "Copy of submitting.ipynb",
   "provenance": []
  },
  "kernelspec": {
   "display_name": "Python 3",
   "language": "python",
   "name": "python3"
  },
  "language_info": {
   "codemirror_mode": {
    "name": "ipython",
    "version": 3
   },
   "file_extension": ".py",
   "mimetype": "text/x-python",
   "name": "python",
   "nbconvert_exporter": "python",
   "pygments_lexer": "ipython3",
   "version": "3.7.4"
  }
 },
 "nbformat": 4,
 "nbformat_minor": 1
}
